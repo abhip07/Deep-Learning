{
  "nbformat": 4,
  "nbformat_minor": 0,
  "metadata": {
    "colab": {
      "name": "simple_autoencoder.ipynb",
      "provenance": [],
      "collapsed_sections": []
    },
    "kernelspec": {
      "name": "python3",
      "display_name": "Python 3"
    },
    "language_info": {
      "name": "python"
    }
  },
  "cells": [
    {
      "cell_type": "markdown",
      "source": [
        "# A simple Autoencoder network"
      ],
      "metadata": {
        "id": "J9zA-k1OTRRz"
      }
    },
    {
      "cell_type": "code",
      "metadata": {
        "id": "_AZm7kyfpQ1v"
      },
      "source": [
        "import tensorflow as tf\n",
        "from tensorflow.keras.layers import Dense, Reshape, Flatten\n",
        "import matplotlib.pyplot as plt\n",
        "import random\n",
        "\n",
        "random.seed(42)"
      ],
      "execution_count": 53,
      "outputs": []
    },
    {
      "cell_type": "markdown",
      "source": [
        "### Dataset\n",
        "\n",
        "- As we know in Autoencoders training means just reconstructing the original image so we don't need labels of fashion MNIST dataset."
      ],
      "metadata": {
        "id": "ICsFmqaVXunj"
      }
    },
    {
      "cell_type": "code",
      "source": [
        "from tensorflow.keras.datasets import fashion_mnist\n",
        "\n",
        "(x_train, y1), (x_test, y2) = fashion_mnist.load_data()\n",
        "\n",
        "# Converting 'uint8' pixel values to 32-bit precision 'float32' values\n",
        "x_train = x_train.astype('float32') / 255.\n",
        "x_test = x_test.astype('float32') / 255."
      ],
      "metadata": {
        "id": "hqBj4NrdXu4E"
      },
      "execution_count": 54,
      "outputs": []
    },
    {
      "cell_type": "markdown",
      "source": [
        "## Let's create a simple Autoencoder using fully connected neurons."
      ],
      "metadata": {
        "id": "eqZyieveP7Yv"
      }
    },
    {
      "cell_type": "code",
      "source": [
        "latent_vector = 64\n",
        "\n",
        "class Autoencoder(tf.keras.Model):\n",
        "      \n",
        "    def __init__(self, latent_vector):\n",
        "        self.latent_vector = latent_vector  # latent vector of encoded image\n",
        "        super().__init__()\n",
        "        self.Encoder = tf.keras.Sequential([\n",
        "                    #   Dense(256, activation='relu', input_shape = (28, 28)),\n",
        "                      Dense(latent_vector, activation='relu', input_shape = (28, 28))\n",
        "        ])\n",
        "\n",
        "        self.Decoder = tf.keras.Sequential([\n",
        "                      Flatten(),\n",
        "                    #   Dense(256, activation='relu', input_shape=(latent_vector,)),\n",
        "                      Dense(784, activation='sigmoid'),\n",
        "                      Reshape((28,28))\n",
        "        ])\n",
        "\n",
        "    def call(self, Input):\n",
        "        encoded_input = self.Encoder(Input)\n",
        "        output = self.Decoder(encoded_input)\n",
        "        return output\n",
        "\n",
        "autoencoder = Autoencoder(latent_vector)\n",
        "autoencoder.compile(optimizer='adam', loss=tf.keras.losses.MeanSquaredError())"
      ],
      "metadata": {
        "id": "z1uc24eFZSMB"
      },
      "execution_count": 55,
      "outputs": []
    },
    {
      "cell_type": "code",
      "source": [
        "train = autoencoder.fit(x_train, x_train,\n",
        "                epochs=10,\n",
        "                shuffle=True,\n",
        "                validation_data=(x_test, x_test),\n",
        ")"
      ],
      "metadata": {
        "colab": {
          "base_uri": "https://localhost:8080/"
        },
        "id": "J3WM1txkguQ-",
        "outputId": "1db0b7f7-461a-4153-ccf7-d48a5197faf8"
      },
      "execution_count": 56,
      "outputs": [
        {
          "output_type": "stream",
          "name": "stdout",
          "text": [
            "Epoch 1/10\n",
            "1875/1875 [==============================] - 32s 17ms/step - loss: 0.0080 - val_loss: 0.0026\n",
            "Epoch 2/10\n",
            "1875/1875 [==============================] - 31s 17ms/step - loss: 0.0020 - val_loss: 0.0016\n",
            "Epoch 3/10\n",
            "1875/1875 [==============================] - 31s 17ms/step - loss: 0.0014 - val_loss: 0.0013\n",
            "Epoch 4/10\n",
            "1875/1875 [==============================] - 31s 16ms/step - loss: 0.0011 - val_loss: 0.0011\n",
            "Epoch 5/10\n",
            "1875/1875 [==============================] - 31s 17ms/step - loss: 9.6374e-04 - val_loss: 9.0003e-04\n",
            "Epoch 6/10\n",
            "1875/1875 [==============================] - 31s 17ms/step - loss: 8.4205e-04 - val_loss: 8.1832e-04\n",
            "Epoch 7/10\n",
            "1875/1875 [==============================] - 31s 16ms/step - loss: 7.5243e-04 - val_loss: 7.2845e-04\n",
            "Epoch 8/10\n",
            "1875/1875 [==============================] - 31s 16ms/step - loss: 6.8545e-04 - val_loss: 6.6494e-04\n",
            "Epoch 9/10\n",
            "1875/1875 [==============================] - 31s 17ms/step - loss: 6.2488e-04 - val_loss: 6.0148e-04\n",
            "Epoch 10/10\n",
            "1875/1875 [==============================] - 31s 16ms/step - loss: 5.5036e-04 - val_loss: 5.1172e-04\n"
          ]
        }
      ]
    },
    {
      "cell_type": "markdown",
      "source": [
        "## Inference"
      ],
      "metadata": {
        "id": "neBgd6vhhBF-"
      }
    },
    {
      "cell_type": "code",
      "source": [
        "encode = autoencoder.Encoder(x_test).numpy()\n",
        "decode = autoencoder.Decoder(encode).numpy()"
      ],
      "metadata": {
        "id": "nG4Piqu5gjIR"
      },
      "execution_count": 58,
      "outputs": []
    },
    {
      "cell_type": "markdown",
      "source": [
        "## Results"
      ],
      "metadata": {
        "id": "PVKDdLrli6_a"
      }
    },
    {
      "cell_type": "code",
      "source": [
        "plt.figure(figsize=(15, 4))\n",
        "\n",
        "# Original Images\n",
        "for i in range(5):\n",
        "    plt.subplot(2, 5, i+1)\n",
        "    plt.imshow(x_test[i])\n",
        "    plt.title('Original')\n",
        "    plt.axis('off')\n",
        "\n",
        "# Reconstructed Images\n",
        "for i in range(5):\n",
        "    plt.subplot(2, 5, i+5+1)\n",
        "    plt.imshow(decode[i])\n",
        "    plt.title('Reconstructed')\n",
        "    plt.axis('off')\n",
        "plt.show()"
      ],
      "metadata": {
        "colab": {
          "base_uri": "https://localhost:8080/",
          "height": 264
        },
        "id": "Oo_GVUlhgjR3",
        "outputId": "c6f87caf-4df1-4815-ce79-534e964f72e7"
      },
      "execution_count": 59,
      "outputs": [
        {
          "output_type": "display_data",
          "data": {
            "image/png": "[encoded data removed]",
            "text/plain": [
              "<Figure size 1080x288 with 10 Axes>"
            ]
          },
          "metadata": {
            "needs_background": "light"
          }
        }
      ]
    },
    {
      "cell_type": "code",
      "source": [
        ""
      ],
      "metadata": {
        "id": "iPwDXHJqk3P-"
      },
      "execution_count": null,
      "outputs": []
    }
  ]
}