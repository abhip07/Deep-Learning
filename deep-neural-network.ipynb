{
 "cells": [
  {
   "cell_type": "markdown",
   "metadata": {
    "id": "7BV-YApbSivZ"
   },
   "source": [
    "# 1. Building Complex Models Using the Functional API\n",
    "\n",
    "- Let's create an linear regressor to predict the price of house using a complex regression model using Functonal API.\n",
    "\n",
    "- Here we will use popular 'california_housing' dataset to train our neural network."
   ]
  },
  {
   "cell_type": "code",
   "execution_count": 48,
   "metadata": {
    "executionInfo": {
     "elapsed": 26,
     "status": "ok",
     "timestamp": 1628944727428,
     "user": {
      "displayName": "Abhishek P",
      "photoUrl": "https://lh3.googleusercontent.com/a-/AOh14Gjd02ml8S3hdjdqHDrWyXgi3hx4TMelwoXT1Tr6=s64",
      "userId": "08102014119056397692"
     },
     "user_tz": -330
    },
    "id": "jixULUI_J1zd"
   },
   "outputs": [],
   "source": [
    "import tensorflow as tf\n",
    "from tensorflow import keras\n",
    "from sklearn.datasets import fetch_california_housing\n",
    "from sklearn.model_selection import train_test_split\n",
    "from sklearn.preprocessing import StandardScaler\n",
    "from keras.layers import Input, Dense"
   ]
  },
  {
   "cell_type": "markdown",
   "metadata": {
    "id": "REZw-O27VxAU"
   },
   "source": [
    "## Dataset\n",
    "\n",
    "- The california_housing dataset contains 20640 instances with 8 features and 'target' as a lebel.\n",
    "- we will split in into train, test and validation sets as we will bw using \"sgd\" as an optimizer.\n"
   ]
  },
  {
   "cell_type": "code",
   "execution_count": 49,
   "metadata": {
    "executionInfo": {
     "elapsed": 26,
     "status": "ok",
     "timestamp": 1628944727431,
     "user": {
      "displayName": "Abhishek P",
      "photoUrl": "https://lh3.googleusercontent.com/a-/AOh14Gjd02ml8S3hdjdqHDrWyXgi3hx4TMelwoXT1Tr6=s64",
      "userId": "08102014119056397692"
     },
     "user_tz": -330
    },
    "id": "H0kEUfPdSiao"
   },
   "outputs": [],
   "source": [
    "dataset = fetch_california_housing()"
   ]
  },
  {
   "cell_type": "markdown",
   "metadata": {
    "id": "H5_XgTgRWkkC"
   },
   "source": [
    "## splitting dataset into Train, Test and Validation set."
   ]
  },
  {
   "cell_type": "code",
   "execution_count": 50,
   "metadata": {
    "executionInfo": {
     "elapsed": 27,
     "status": "ok",
     "timestamp": 1628944727433,
     "user": {
      "displayName": "Abhishek P",
      "photoUrl": "https://lh3.googleusercontent.com/a-/AOh14Gjd02ml8S3hdjdqHDrWyXgi3hx4TMelwoXT1Tr6=s64",
      "userId": "08102014119056397692"
     },
     "user_tz": -330
    },
    "id": "ZR3qBR-2V-ag"
   },
   "outputs": [],
   "source": [
    "x_train, x_test, y_train, y_test = train_test_split(dataset.data, dataset.target, random_state=32)\n",
    "\n",
    "x_train, x_val, y_train, y_val = train_test_split(x_train, y_train, random_state=32)"
   ]
  },
  {
   "cell_type": "code",
   "execution_count": 51,
   "metadata": {
    "colab": {
     "base_uri": "https://localhost:8080/"
    },
    "executionInfo": {
     "elapsed": 28,
     "status": "ok",
     "timestamp": 1628944727435,
     "user": {
      "displayName": "Abhishek P",
      "photoUrl": "https://lh3.googleusercontent.com/a-/AOh14Gjd02ml8S3hdjdqHDrWyXgi3hx4TMelwoXT1Tr6=s64",
      "userId": "08102014119056397692"
     },
     "user_tz": -330
    },
    "id": "7vCdDlA_XsmW",
    "outputId": "aab23c47-8483-4b84-d952-51c157da837c"
   },
   "outputs": [
    {
     "data": {
      "text/plain": [
       "([(11610, 8), (11610,)], [(5160, 8), (5160,)], [(3870, 8), (3870,)])"
      ]
     },
     "execution_count": 51,
     "metadata": {
      "tags": []
     },
     "output_type": "execute_result"
    }
   ],
   "source": [
    "[x_train.shape, y_train.shape], [x_test.shape, y_test.shape], [x_val.shape, y_val.shape]"
   ]
  },
  {
   "cell_type": "markdown",
   "metadata": {
    "id": "i1ASlSfiZ_R4"
   },
   "source": [
    "### Let's scale the dataset"
   ]
  },
  {
   "cell_type": "code",
   "execution_count": 52,
   "metadata": {
    "executionInfo": {
     "elapsed": 6,
     "status": "ok",
     "timestamp": 1628944729288,
     "user": {
      "displayName": "Abhishek P",
      "photoUrl": "https://lh3.googleusercontent.com/a-/AOh14Gjd02ml8S3hdjdqHDrWyXgi3hx4TMelwoXT1Tr6=s64",
      "userId": "08102014119056397692"
     },
     "user_tz": -330
    },
    "id": "Ab0hQdOuZ-Hs"
   },
   "outputs": [],
   "source": [
    "scale = StandardScaler()\n",
    "x_train = scale.fit_transform(x_train)\n",
    "x_test = scale.fit_transform(x_test)\n",
    "x_val = scale.fit_transform(x_val)"
   ]
  },
  {
   "cell_type": "markdown",
   "metadata": {
    "id": "ISRKzCb6MGHw"
   },
   "source": [
    "## Building a Dense model\n",
    "\n",
    "-  In case of linear regreession, we only have a single neuron as an output layer, because here we are predicting the price of each instance as output.\n",
    "\n",
    "- In this model we will send part of our training data through the full stack of deep layers and part of it directly to output layer."
   ]
  },
  {
   "cell_type": "code",
   "execution_count": 53,
   "metadata": {
    "executionInfo": {
     "elapsed": 14,
     "status": "ok",
     "timestamp": 1628944729779,
     "user": {
      "displayName": "Abhishek P",
      "photoUrl": "https://lh3.googleusercontent.com/a-/AOh14Gjd02ml8S3hdjdqHDrWyXgi3hx4TMelwoXT1Tr6=s64",
      "userId": "08102014119056397692"
     },
     "user_tz": -330
    },
    "id": "zVsh7_0RMBKG"
   },
   "outputs": [],
   "source": [
    "# Creating 2 separeaate input layers for different parts of a deep neural network\n",
    "input1 = Input(shape=[5], name='deep input')\n",
    "input2 = Input(shape=[6], name='direct input')\n",
    "\n",
    "# Creating first hidden layer stacked on with second input layer\n",
    "hidden1 = Dense(units=30, activation='relu')(input2)\n",
    "\n",
    "# Creating second hidden layer to on top of first dense layer\n",
    "hidden2 = Dense(units=30, activation=\"relu\")(hidden1)\n",
    "\n",
    "# connecting second input layer directly to first hidden layer\n",
    "concat = keras.layers.concatenate([input1, hidden2], axis=1)\n",
    "\"\"\" \n",
    "Now 'concat' has became a network which contains the deep network and input2 layer directly connected to it.\n",
    "\n",
    "\"\"\" \n",
    "\n",
    "# Creating output layer with 1 neuron and connecting it with concat layer\n",
    "output = Dense(1, name=\"output_layer\")(concat)"
   ]
  },
  {
   "cell_type": "markdown",
   "metadata": {
    "id": "k6wji-BmWuWC"
   },
   "source": [
    "## Creating a model using dense neural network created above "
   ]
  },
  {
   "cell_type": "code",
   "execution_count": 54,
   "metadata": {
    "colab": {
     "base_uri": "https://localhost:8080/"
    },
    "executionInfo": {
     "elapsed": 468,
     "status": "ok",
     "timestamp": 1628944732821,
     "user": {
      "displayName": "Abhishek P",
      "photoUrl": "https://lh3.googleusercontent.com/a-/AOh14Gjd02ml8S3hdjdqHDrWyXgi3hx4TMelwoXT1Tr6=s64",
      "userId": "08102014119056397692"
     },
     "user_tz": -330
    },
    "id": "k560C4D3WI2M",
    "outputId": "c222c16b-741f-4de2-e341-3445c8942258"
   },
   "outputs": [
    {
     "data": {
      "text/plain": [
       "<keras.engine.functional.Functional at 0x7f3e35a58210>"
      ]
     },
     "execution_count": 54,
     "metadata": {
      "tags": []
     },
     "output_type": "execute_result"
    }
   ],
   "source": [
    "from keras.models import Model\n",
    "model = Model(inputs=[input1, input2], outputs=[output])   # \n",
    "model"
   ]
  },
  {
   "cell_type": "markdown",
   "metadata": {
    "id": "dVp6ZGxsYNmy"
   },
   "source": [
    "## Compiling the model \n",
    "- Here we will use \"mean-squared-error\" as loss function and \"Stochastic Gradient Descent\" as an optimizer with learning rate : <br/> (1e-3) =   1 * (10 ^ (-3)) = 0.001"
   ]
  },
  {
   "cell_type": "code",
   "execution_count": 55,
   "metadata": {
    "executionInfo": {
     "elapsed": 6,
     "status": "ok",
     "timestamp": 1628944734126,
     "user": {
      "displayName": "Abhishek P",
      "photoUrl": "https://lh3.googleusercontent.com/a-/AOh14Gjd02ml8S3hdjdqHDrWyXgi3hx4TMelwoXT1Tr6=s64",
      "userId": "08102014119056397692"
     },
     "user_tz": -330
    },
    "id": "wj6Cj7n7XpYc"
   },
   "outputs": [],
   "source": [
    "model.compile(loss=\"mse\", optimizer=keras.optimizers.SGD(learning_rate=1e-3))"
   ]
  },
  {
   "cell_type": "markdown",
   "metadata": {
    "id": "5wbc2Xi2Z-oH"
   },
   "source": [
    "### Splitting the train, test and validation sets into input1 and input2"
   ]
  },
  {
   "cell_type": "code",
   "execution_count": 56,
   "metadata": {
    "executionInfo": {
     "elapsed": 14,
     "status": "ok",
     "timestamp": 1628944735737,
     "user": {
      "displayName": "Abhishek P",
      "photoUrl": "https://lh3.googleusercontent.com/a-/AOh14Gjd02ml8S3hdjdqHDrWyXgi3hx4TMelwoXT1Tr6=s64",
      "userId": "08102014119056397692"
     },
     "user_tz": -330
    },
    "id": "oSiSXRCoZ1o1"
   },
   "outputs": [],
   "source": [
    "x_train1, x_train2 = x_train[:, :5], x_train[:, 2:]\n",
    "x_val1, x_val2 = x_val[:, :5], x_val[:, 2:]\n",
    "x_test1, x_test2 = x_test[:, :5], x_test[:, 2:]"
   ]
  },
  {
   "cell_type": "markdown",
   "metadata": {
    "id": "3XKFSDzZbFR-"
   },
   "source": [
    "## Let's fit the model to our dataset"
   ]
  },
  {
   "cell_type": "code",
   "execution_count": 57,
   "metadata": {
    "colab": {
     "base_uri": "https://localhost:8080/"
    },
    "executionInfo": {
     "elapsed": 18230,
     "status": "ok",
     "timestamp": 1628944755835,
     "user": {
      "displayName": "Abhishek P",
      "photoUrl": "https://lh3.googleusercontent.com/a-/AOh14Gjd02ml8S3hdjdqHDrWyXgi3hx4TMelwoXT1Tr6=s64",
      "userId": "08102014119056397692"
     },
     "user_tz": -330
    },
    "id": "BntGS0PObDjE",
    "outputId": "d6f81cfe-82f7-43df-9b75-d01f8041f95d"
   },
   "outputs": [
    {
     "name": "stdout",
     "output_type": "stream",
     "text": [
      "Epoch 1/30\n",
      "363/363 [==============================] - 1s 2ms/step - loss: 2.9622 - val_loss: 0.8161\n",
      "Epoch 2/30\n",
      "363/363 [==============================] - 1s 2ms/step - loss: 0.7218 - val_loss: 0.6457\n",
      "Epoch 3/30\n",
      "363/363 [==============================] - 1s 2ms/step - loss: 0.6408 - val_loss: 0.5747\n",
      "Epoch 4/30\n",
      "363/363 [==============================] - 1s 2ms/step - loss: 0.5618 - val_loss: 0.5375\n",
      "Epoch 5/30\n",
      "363/363 [==============================] - 1s 2ms/step - loss: 0.5538 - val_loss: 0.5111\n",
      "Epoch 6/30\n",
      "363/363 [==============================] - 1s 2ms/step - loss: 0.5182 - val_loss: 0.4899\n",
      "Epoch 7/30\n",
      "363/363 [==============================] - 1s 2ms/step - loss: 0.5140 - val_loss: 0.4758\n",
      "Epoch 8/30\n",
      "363/363 [==============================] - 1s 2ms/step - loss: 0.4979 - val_loss: 0.4652\n",
      "Epoch 9/30\n",
      "363/363 [==============================] - 1s 2ms/step - loss: 0.4683 - val_loss: 0.4548\n",
      "Epoch 10/30\n",
      "363/363 [==============================] - 1s 2ms/step - loss: 0.4632 - val_loss: 0.4484\n",
      "Epoch 11/30\n",
      "363/363 [==============================] - 1s 2ms/step - loss: 0.4623 - val_loss: 0.4475\n",
      "Epoch 12/30\n",
      "363/363 [==============================] - 1s 2ms/step - loss: 0.4366 - val_loss: 0.4413\n",
      "Epoch 13/30\n",
      "363/363 [==============================] - 1s 2ms/step - loss: 0.4764 - val_loss: 0.4420\n",
      "Epoch 14/30\n",
      "363/363 [==============================] - 1s 2ms/step - loss: 0.4602 - val_loss: 0.4409\n",
      "Epoch 15/30\n",
      "363/363 [==============================] - 1s 2ms/step - loss: 0.4493 - val_loss: 0.4413\n",
      "Epoch 16/30\n",
      "363/363 [==============================] - 1s 2ms/step - loss: 0.4347 - val_loss: 0.4378\n",
      "Epoch 17/30\n",
      "363/363 [==============================] - 1s 2ms/step - loss: 0.4392 - val_loss: 0.4406\n",
      "Epoch 18/30\n",
      "363/363 [==============================] - 1s 2ms/step - loss: 0.4295 - val_loss: 0.4428\n",
      "Epoch 19/30\n",
      "363/363 [==============================] - 1s 2ms/step - loss: 0.4192 - val_loss: 0.4498\n",
      "Epoch 20/30\n",
      "363/363 [==============================] - 1s 2ms/step - loss: 0.4189 - val_loss: 0.4487\n",
      "Epoch 21/30\n",
      "363/363 [==============================] - 1s 2ms/step - loss: 0.4352 - val_loss: 0.4502\n",
      "Epoch 22/30\n",
      "363/363 [==============================] - 1s 2ms/step - loss: 0.4436 - val_loss: 0.4530\n",
      "Epoch 23/30\n",
      "363/363 [==============================] - 1s 2ms/step - loss: 0.4356 - val_loss: 0.4549\n",
      "Epoch 24/30\n",
      "363/363 [==============================] - 1s 2ms/step - loss: 0.4151 - val_loss: 0.4577\n",
      "Epoch 25/30\n",
      "363/363 [==============================] - 1s 2ms/step - loss: 0.4123 - val_loss: 0.4627\n",
      "Epoch 26/30\n",
      "363/363 [==============================] - 1s 2ms/step - loss: 0.4094 - val_loss: 0.4648\n",
      "Epoch 27/30\n",
      "363/363 [==============================] - 1s 2ms/step - loss: 0.4089 - val_loss: 0.4690\n",
      "Epoch 28/30\n",
      "363/363 [==============================] - 1s 2ms/step - loss: 0.4031 - val_loss: 0.4682\n",
      "Epoch 29/30\n",
      "363/363 [==============================] - 1s 2ms/step - loss: 0.4052 - val_loss: 0.4716\n",
      "Epoch 30/30\n",
      "363/363 [==============================] - 1s 2ms/step - loss: 0.4096 - val_loss: 0.4751\n"
     ]
    }
   ],
   "source": [
    "Train = model.fit((x_train1, x_train2), y_train, epochs=30, validation_data=((x_val1, x_val2), y_val))"
   ]
  },
  {
   "cell_type": "code",
   "execution_count": 58,
   "metadata": {
    "colab": {
     "base_uri": "https://localhost:8080/",
     "height": 269
    },
    "executionInfo": {
     "elapsed": 658,
     "status": "ok",
     "timestamp": 1628944760659,
     "user": {
      "displayName": "Abhishek P",
      "photoUrl": "https://lh3.googleusercontent.com/a-/AOh14Gjd02ml8S3hdjdqHDrWyXgi3hx4TMelwoXT1Tr6=s64",
      "userId": "08102014119056397692"
     },
     "user_tz": -330
    },
    "id": "c4hnddovcE5D",
    "outputId": "17bec683-c95a-48d2-d4ca-9333cbea75d4"
   },
   "outputs": [
    {
     "data": {
      "image/png": "[encoded data removed]",
      "text/plain": [
       "<Figure size 432x288 with 1 Axes>"
      ]
     },
     "metadata": {
      "needs_background": "light",
      "tags": []
     },
     "output_type": "display_data"
    }
   ],
   "source": [
    "import pandas as pd\n",
    "import matplotlib.pyplot as plt\n",
    "plt.plot(pd.DataFrame(Train.history))\n",
    "plt.gca().set_ylim(0, 1)\n",
    "plt.show()"
   ]
  },
  {
   "cell_type": "markdown",
   "metadata": {
    "id": "8MnlFqrsZbNG"
   },
   "source": [
    "### Evaluating the model and Making Predictions "
   ]
  },
  {
   "cell_type": "code",
   "execution_count": 59,
   "metadata": {
    "colab": {
     "base_uri": "https://localhost:8080/"
    },
    "executionInfo": {
     "elapsed": 689,
     "status": "ok",
     "timestamp": 1628944765789,
     "user": {
      "displayName": "Abhishek P",
      "photoUrl": "https://lh3.googleusercontent.com/a-/AOh14Gjd02ml8S3hdjdqHDrWyXgi3hx4TMelwoXT1Tr6=s64",
      "userId": "08102014119056397692"
     },
     "user_tz": -330
    },
    "id": "0or0gvnrbX71",
    "outputId": "1aa16a77-c138-4ddf-aa24-1a29f191bd8a"
   },
   "outputs": [
    {
     "name": "stdout",
     "output_type": "stream",
     "text": [
      "162/162 [==============================] - 0s 1ms/step - loss: 0.4640\n"
     ]
    }
   ],
   "source": [
    "Test = model.evaluate((x_test1, x_test2), y_test)"
   ]
  },
  {
   "cell_type": "code",
   "execution_count": 60,
   "metadata": {
    "colab": {
     "base_uri": "https://localhost:8080/"
    },
    "executionInfo": {
     "elapsed": 641,
     "status": "ok",
     "timestamp": 1628944770580,
     "user": {
      "displayName": "Abhishek P",
      "photoUrl": "https://lh3.googleusercontent.com/a-/AOh14Gjd02ml8S3hdjdqHDrWyXgi3hx4TMelwoXT1Tr6=s64",
      "userId": "08102014119056397692"
     },
     "user_tz": -330
    },
    "id": "Go1rHU87Zl-w",
    "outputId": "837818ff-8161-4e64-8024-ea5eab53cdf0"
   },
   "outputs": [
    {
     "data": {
      "text/plain": [
       "array([[0.48807907],\n",
       "       [1.8051984 ],\n",
       "       [2.5637584 ],\n",
       "       [4.6409645 ],\n",
       "       [1.0222323 ],\n",
       "       [1.6426119 ],\n",
       "       [1.7118404 ],\n",
       "       [1.8668276 ],\n",
       "       [1.3908737 ],\n",
       "       [1.8593147 ],\n",
       "       [1.2851903 ],\n",
       "       [1.9173831 ],\n",
       "       [3.013431  ],\n",
       "       [2.7171884 ],\n",
       "       [2.1441197 ]], dtype=float32)"
      ]
     },
     "execution_count": 60,
     "metadata": {
      "tags": []
     },
     "output_type": "execute_result"
    }
   ],
   "source": [
    "model.predict((x_test1[:15], x_test2[:15]))"
   ]
  },
  {
   "cell_type": "markdown",
   "metadata": {
    "id": "jhTitwz5gNdj"
   },
   "source": [
    "# 2. Building Same Dynamic Model Using the Subclassing API\n",
    "\n",
    "- In subclassing API we can subclass the Model class, create the layers we need in the constructor and then we can use them for any computation just by calling that method.\n",
    "\n",
    "- Then we can compile it, evaluate it and use it to make predictions, exactly like we just did."
   ]
  },
  {
   "cell_type": "code",
   "execution_count": 61,
   "metadata": {
    "executionInfo": {
     "elapsed": 476,
     "status": "ok",
     "timestamp": 1628944780702,
     "user": {
      "displayName": "Abhishek P",
      "photoUrl": "https://lh3.googleusercontent.com/a-/AOh14Gjd02ml8S3hdjdqHDrWyXgi3hx4TMelwoXT1Tr6=s64",
      "userId": "08102014119056397692"
     },
     "user_tz": -330
    },
    "id": "41IXBpo4gMht"
   },
   "outputs": [],
   "source": [
    "class Subclassing_api(keras.models.Model):\n",
    "\n",
    "    # Creating a constructor with important arguments \n",
    "    def __init__(self, units=30, Activation='relu', **kwargs):\n",
    "        # let's define another constructor\n",
    "        super().__init__(**kwargs)    # handles standard kwargs (e.g,  layer_name)\n",
    "        self.dense1 = Dense(units=units, activation=Activation)\n",
    "        self.dense2 = Dense(units=units, activation=Activation)\n",
    "        self.output_layer = Dense(1)\n",
    "\n",
    "    def Model(self, inputs):\n",
    "        input1, input2 = inputs\n",
    "        dense1 = self.dense1(input2)\n",
    "        dense2 = self.dense2(dense1)\n",
    "        concat = keras.layers.concatenate([input1, hidden2], axis=1)\n",
    "        output = self.output_layer(concat)\n",
    "\n",
    "Model = Subclassing_api()"
   ]
  },
  {
   "cell_type": "markdown",
   "metadata": {
    "id": "D9PHl8fJoCnU"
   },
   "source": [
    "- we do not need to create the **inputs**, we just use the input argument to the **call()** method, and we separate the creation of the layers15 in the constructor from their usage in the **call()** method.\n",
    "\n",
    "-  we can do pretty much anything we want in the\n",
    "call()  method:  for  loops,  if  statements,  low-level  TensorFlow  operations, etc.  This  makes  it  a  great  API  for  researchers\n",
    "experimenting with new ideas"
   ]
  },
  {
   "cell_type": "markdown",
   "metadata": {
    "id": "sLwSUEsqp5-L"
   },
   "source": [
    "## Saving the model\n",
    "\n",
    "- Keras  will  save  both  the  model’s  architecture  (including  every  layer’s  hyperparame‐\n",
    "ters)  and  the  value  of  all  the  model  parameters  for  every  layer  (e.g.,  connection\n",
    "weights and biases), using the HDF5 format. It also saves the optimizer (including its\n",
    "hyperparameters and any state it may have)"
   ]
  },
  {
   "cell_type": "code",
   "execution_count": 62,
   "metadata": {
    "executionInfo": {
     "elapsed": 477,
     "status": "ok",
     "timestamp": 1628944792293,
     "user": {
      "displayName": "Abhishek P",
      "photoUrl": "https://lh3.googleusercontent.com/a-/AOh14Gjd02ml8S3hdjdqHDrWyXgi3hx4TMelwoXT1Tr6=s64",
      "userId": "08102014119056397692"
     },
     "user_tz": -330
    },
    "id": "NXCC8eDHqTqK"
   },
   "outputs": [],
   "source": [
    "\n",
    "model.save(\"california_housing_prediction.h5\")\n"
   ]
  },
  {
   "cell_type": "markdown",
   "metadata": {
    "id": "zT4aV5wlmLLB"
   },
   "source": [
    "# 3. Model with Early Stopping and callbacks\n",
    "\n",
    "- callbacks argument lets us specify a list of objects\n",
    "that Keras will call during training at the start and end of training, at the start and end of each epoch and even before and after processing each batch.\n",
    "\n",
    "- ModelCheckpoint  callback  saves  checkpoints  of   model  at  regular  intervals  during training, by default at the end of each epoch\n",
    "\n",
    "- we can set **save_best_only=True**  when  creating  the  ModelCheckpoint.  In  this  case,  it  will  only\n",
    "save  your  model  when  its  performance  on  the  validation  set  is  the  best  so  far."
   ]
  },
  {
   "cell_type": "code",
   "execution_count": null,
   "metadata": {
    "id": "i2BGV1G4oVB7"
   },
   "outputs": [],
   "source": [
    "## first create and compile model as we done before then follow following steps\n",
    "\n",
    "keras.models.load_model(\"california_housing_prediction.h5\")\n",
    "callbacks_cb = keras.callbacks.ModelCheckpoint(\"california_housing_prediction.h5\", save_best_only=True)\n",
    "\n",
    "Training = model.fit((x_train1, x_train2), y_train, \n",
    "                               epochs=30, \n",
    "                               validation_data=((x_val1, x_val2), y_val), \n",
    "                               callbacks=callbacks_cb\n",
    "                               \n",
    ")"
   ]
  }
 ],
 "metadata": {
  "colab": {
   "authorship_tag": "ABX9TyOlL+WQNx9sjtcf64FN6p52",
   "collapsed_sections": [],
   "name": "california_housing_regressor.ipynb",
   "provenance": []
  },
  "kernelspec": {
   "display_name": "Python 3",
   "language": "python",
   "name": "python3"
  },
  "language_info": {
   "codemirror_mode": {
    "name": "ipython",
    "version": 3
   },
   "file_extension": ".py",
   "mimetype": "text/x-python",
   "name": "python",
   "nbconvert_exporter": "python",
   "pygments_lexer": "ipython3",
   "version": "3.8.10"
  }
 },
 "nbformat": 4,
 "nbformat_minor": 1
}
